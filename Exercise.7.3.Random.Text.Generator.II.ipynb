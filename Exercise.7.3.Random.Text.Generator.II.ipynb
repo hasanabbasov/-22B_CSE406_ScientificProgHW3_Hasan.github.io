{
 "cells": [
  {
   "cell_type": "code",
   "execution_count": 36,
   "id": "296d41e8-72dd-4680-9c6d-a5c75eb7666e",
   "metadata": {},
   "outputs": [
    {
     "name": "stdout",
     "output_type": "stream",
     "text": [
      "Random words Python\n",
      "Change :  Java\n"
     ]
    }
   ],
   "source": [
    "import random\n",
    "with open(\"HelloPython.txt\", \"r\") as my_file:\n",
    "    d = my_file.read()\n",
    "    w = d.split() \n",
    "    word_posisition = random.randint(0, len(w)-1)\n",
    "    x=w[word_posisition].replace(\"Python\", \"Java\")\n",
    "    print(\"Random words\", w[word_posisition])\n",
    "    print(\"Change : \",x)"
   ]
  }
 ],
 "metadata": {
  "kernelspec": {
   "display_name": "Python 3 (ipykernel)",
   "language": "python",
   "name": "python3"
  },
  "language_info": {
   "codemirror_mode": {
    "name": "ipython",
    "version": 3
   },
   "file_extension": ".py",
   "mimetype": "text/x-python",
   "name": "python",
   "nbconvert_exporter": "python",
   "pygments_lexer": "ipython3",
   "version": "3.10.2"
  }
 },
 "nbformat": 4,
 "nbformat_minor": 5
}
