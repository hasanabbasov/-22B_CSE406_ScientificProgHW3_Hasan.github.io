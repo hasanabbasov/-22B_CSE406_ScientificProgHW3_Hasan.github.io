{
 "cells": [
  {
   "cell_type": "code",
   "execution_count": 46,
   "id": "9978bdf1-57f5-4dd7-bcdf-d0ba1dcd048a",
   "metadata": {},
   "outputs": [
    {
     "name": "stdout",
     "output_type": "stream",
     "text": [
      "A) The 20 most common words:  [('and', 60), ('of', 49), ('in', 47), ('the', 46), ('to', 37), ('his', 35), ('that', 23), ('a', 22), ('their', 20), ('her', 19), ('did', 16), ('my', 14), ('by', 14), ('he', 14), ('i', 12), ('with', 12), ('she', 12), ('not', 11), ('what', 11), ('was', 11)] \n",
      "\n",
      "B)Total Unique Words:  881 \n",
      "\n",
      "C) Words are used at least 5 times?  ['and', 'of', 'in', 'the', 'to', 'his', 'that', 'a', 'their', 'her', 'did', 'my', 'by', 'he', 'i', 'with', 'she', 'not', 'what', 'was', 'all', 'as', 'for', 'from', 'it', 'so', 'which', 'they', 'or', 'but', 'have', 'upon', 'had', 'nor', 'often', 'many', 'him', 'me', 'were', 'whose', 'this', 'youth', 'some', 'on', 'one', 'where', 'yet', 'may', 'love', 'is', 'made'] \n",
      "\n",
      "D) :  [('from', 1), ('off', 1), ('a', 1), ('hill', 1), ('whose', 1), ('concave', 1), ('womb', 1), ('reworded', 1), ('plaintful', 1), ('story', 1), ('sistering', 1), ('vale,', 1), ('my', 1), ('spirits', 1), ('to', 1), ('attend', 1), ('this', 1), ('double', 1), ('voice', 1), ('accorded,', 1), ('and', 1), ('down', 1), ('i', 1), ('laid', 1), ('list', 1), ('the', 1), ('sad-tuned', 1), ('tale;', 1), ('ere', 1), ('long', 1), ('espied', 1), ('fickle', 1), ('maid', 1), ('full', 1), ('pale,', 1), ('tearing', 1), ('of', 1), ('papers,', 1), ('breaking', 1), ('rings', 1), ('a-twain,', 1), ('storming', 1), ('her', 1), ('world', 1), ('with', 1), (\"sorrow's\", 1), ('wind', 1), ('rain.', 1), ('upon', 1), ('head', 1)] \n",
      "\n"
     ]
    }
   ],
   "source": [
    "my_file=open(\"WilliamS.txt\",\"r\")\n",
    "dictionary={}\n",
    "for each_line in my_file:\n",
    "    each_line=each_line.strip()\n",
    "    each_line=each_line.lower()\n",
    "    all_words=each_line.split(\" \" or \", \" or \":\")\n",
    "    \n",
    "    for each_word in all_words:\n",
    "        each_word=each_word.strip()\n",
    "        if each_word in dictionary:\n",
    "            dictionary[each_word]+=1\n",
    "        else:\n",
    "            dictionary[each_word]=1\n",
    "\n",
    "import operator\n",
    "\n",
    "sorting = sorted(dictionary.items(), key=operator.itemgetter(1),reverse=True)\n",
    "\n",
    "# A)\n",
    "most_common_words=sorting[0:20]\n",
    "print('A) The 20 most common words: ',most_common_words,'\\n')\n",
    "# B)\n",
    "total_unique_words=len(sorting)\n",
    "total_unique_words\n",
    "print('B)Total Unique Words: ',total_unique_words,'\\n')\n",
    "\n",
    "# C)\n",
    "my_words=[]\n",
    "for i,v in sorting:\n",
    "    if v>=5:\n",
    "        my_words.append(i)\n",
    "print('C) Words are used at least 5 times? ',my_words,'\\n')\n",
    "       \n",
    "# D)\n",
    "most_common_words_to_write_file=sorted_dict[0:50]\n",
    "\n",
    "my_file_for_write=open(\"WilliamBookWork.txt\",'w')\n",
    "\n",
    "for i,v in most_common_words_to_write_file:\n",
    "    my_file_for_write.write(str(i)+\" \"+str(v)+\"\\n\")\n",
    "print('D) : ',most_common_words_to_write_file,'\\n')\n"
   ]
  }
 ],
 "metadata": {
  "kernelspec": {
   "display_name": "Python 3 (ipykernel)",
   "language": "python",
   "name": "python3"
  },
  "language_info": {
   "codemirror_mode": {
    "name": "ipython",
    "version": 3
   },
   "file_extension": ".py",
   "mimetype": "text/x-python",
   "name": "python",
   "nbconvert_exporter": "python",
   "pygments_lexer": "ipython3",
   "version": "3.10.2"
  }
 },
 "nbformat": 4,
 "nbformat_minor": 5
}
