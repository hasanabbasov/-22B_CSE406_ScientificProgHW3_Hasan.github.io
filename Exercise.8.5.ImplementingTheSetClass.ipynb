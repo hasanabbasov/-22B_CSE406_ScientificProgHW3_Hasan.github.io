{
 "cells": [
  {
   "cell_type": "code",
   "execution_count": null,
   "id": "f871048b-bfb3-4170-85c0-af6f5e3530b6",
   "metadata": {},
   "outputs": [],
   "source": [
    "class Set:\n",
    "    def first(core, *args):\n",
    "        core.dict = {}\n",
    "        for argument in arguments:\n",
    "            core.add(argument)\n",
    "    def repr(core):\n",
    "        import string\n",
    "        elements = map(repr, core.dict.keys(  ))\n",
    "        elements.sort(  )\n",
    "        return \"%s(%s)\" % (core.class.name, string.join(elements))\n",
    "    def extend(core, arguments):\n",
    "        for argument in arguments:\n",
    "            core.add(argument)\n",
    "    def add(core, title):\n",
    "        core.dict[title] = title\n",
    "    def remove(core, title):\n",
    "        del core.dict[title]\n",
    "        return Set(core)"
   ]
  },
  {
   "cell_type": "code",
   "execution_count": null,
   "id": "b52d9c8d-d621-42cc-a26e-1d71bf368b74",
   "metadata": {},
   "outputs": [],
   "source": []
  }
 ],
 "metadata": {
  "kernelspec": {
   "display_name": "Python 3 (ipykernel)",
   "language": "python",
   "name": "python3"
  },
  "language_info": {
   "codemirror_mode": {
    "name": "ipython",
    "version": 3
   },
   "file_extension": ".py",
   "mimetype": "text/x-python",
   "name": "python",
   "nbconvert_exporter": "python",
   "pygments_lexer": "ipython3",
   "version": "3.10.2"
  }
 },
 "nbformat": 4,
 "nbformat_minor": 5
}
