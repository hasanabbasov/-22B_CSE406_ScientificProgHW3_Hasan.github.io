{
 "cells": [
  {
   "cell_type": "code",
   "execution_count": 7,
   "id": "edcddafb-4db6-401f-95e9-9089a0906468",
   "metadata": {},
   "outputs": [
    {
     "name": "stdout",
     "output_type": "stream",
     "text": [
      "Line 0: Hasan\n",
      "Line 1: Abasov\n",
      "Line 2: Learn\n",
      "Line 3: Python\n"
     ]
    }
   ],
   "source": [
    "with open('HelloPython.txt') as file:\n",
    "    for i, eachLine in enumerate(file):\n",
    "        print(\"Line {}: {}\".format(i, eachLine.strip()))"
   ]
  }
 ],
 "metadata": {
  "kernelspec": {
   "display_name": "Python 3 (ipykernel)",
   "language": "python",
   "name": "python3"
  },
  "language_info": {
   "codemirror_mode": {
    "name": "ipython",
    "version": 3
   },
   "file_extension": ".py",
   "mimetype": "text/x-python",
   "name": "python",
   "nbconvert_exporter": "python",
   "pygments_lexer": "ipython3",
   "version": "3.10.2"
  }
 },
 "nbformat": 4,
 "nbformat_minor": 5
}
